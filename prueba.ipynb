{
 "cells": [
  {
   "cell_type": "code",
   "execution_count": 6,
   "metadata": {},
   "outputs": [],
   "source": [
    "import requests\n",
    "from bs4 import BeautifulSoup"
   ]
  },
  {
   "cell_type": "code",
   "execution_count": 9,
   "metadata": {},
   "outputs": [],
   "source": [
    "palabras = ['empleos','python','mongo']"
   ]
  },
  {
   "cell_type": "code",
   "execution_count": 10,
   "metadata": {},
   "outputs": [],
   "source": [
    "busqueda = '+'.join(palabras)"
   ]
  },
  {
   "cell_type": "code",
   "execution_count": 19,
   "metadata": {},
   "outputs": [
    {
     "name": "stdout",
     "output_type": "stream",
     "text": [
      "https://www.python.org.ar/trabajo/\n",
      "https://www.indeed.com/q-python-mongodb-jobs.html\n",
      "https://ar.linkedin.com/jobs/desarrollador-python-sr-tl-empleos\n",
      "https://ar.indeed.com/q-python-developer-empleos.html\n",
      "https://ar.linkedin.com/jobs/view/senior-software-engineer-python-mongodb-at-canonical-4011650186\n",
      "https://www.glassdoor.com.ar/Empleo/argentina-python-developer-empleos-SRCH_IL.0,9_IN15_KO10,26.htm\n",
      "https://ar.jooble.org/trabajo-mongodb\n",
      "https://ar.jobsora.com/empleos-mongodb-argentina\n",
      "https://www.infojobs.net/ofertas-trabajo/mongodb\n",
      "https://www.freelancer.es/job-search/mongodb/\n",
      "https://www.python.org.ar/trabajo/?tag_python_2=1\n",
      "https://www.infojobs.net/madrid/backend-developer-python-mongodb-remoto/of-ib73b1bd2c3489da9f4f192d0c4eb25\n",
      "https://www.tecnoempleo.com/ofertas-trabajo/mongodb\n",
      "https://empleos.educacionit.com/trabajos?nivel=semi-senior&puesto=database-administrator&tecnologias=after-effects,mongo-db,python,python-datos\n",
      "https://www.glassdoor.com.mx/Empleo/python-mongodb-empleos-SRCH_KO0,14.htm\n",
      "https://www.jobisjob.es/python+mongodb/trabajos\n",
      "https://empleos.educacionit.com/trabajos?modalidad=hibrido&nivel=senior&tecnologias=bootstrap,java-spring,mongo-db,pnl,python\n",
      "https://www.jobatus.es/trabajo-programador-python-django-mongodb\n",
      "https://www.freelancer.com.ar/job-search/mongodb-commands/\n"
     ]
    }
   ],
   "source": [
    "headers = {\n",
    "    \"User-Agent\": \"Mozilla/5.0 (Windows NT 10.0; Win64; x64) AppleWebKit/537.36 (KHTML, like Gecko) Chrome/92.0.4515.107 Safari/537.36\"\n",
    "}\n",
    "\n",
    "paginas = 2\n",
    "param_paginas = (paginas-1)*10\n",
    "saltos = 0\n",
    "flag = False\n",
    "while saltos<param_paginas+1:\n",
    "    r = requests.get(f'https://www.google.com/search?q={busqueda}&sca_esv=6b85669aac26ce9a&rlz=1C1FKPE_esAR1126AR1126&sxsrf=ADLYWIL2N2kWzbqfxkSs5aDv8yR89mXHcw%3A1729985614258&ei=TnwdZ7i3D_6_5OUP5YTIuAc&start={saltos}&ved=0ahUKEwi4loTQmq2JAxX-H7kGHWUCEncQ4dUDCA8&uact=5&oq=python+mongo+db&gs_lp=Egxnd3Mtd2l6LXNlcnAiD3B5dGhvbiBtb25nbyBkYjIHEAAYgAQYCjIKEAAYgAQYChjLATIHEAAYgAQYCjIHEAAYgAQYCjIHEAAYgAQYCjIIEAAYFhgKGB4yCBAAGBYYHhgPMggQABgWGAoYHjIIEAAYFhgKGB4yCBAAGBYYChgeSKl5UABYgnJwAXgBkAEAmAFeoAFeqgEBMbgBA8gBAPgBAfgBApgCAqACbqgCE8ICBxAjGCcY6gLCAg0QLhjHARgnGOoCGK8BwgITEAAYgAQYQxi0AhiKBRjqAtgBAcICHBAuGIAEGEMYtAIYxwEYyAMYigUY6gIYrwHYAQHCAhYQLhiABBhDGLQCGMgDGIoFGOoC2AEBmAMM4gMFEgExIEC6BgYIARABGAGSBwEyoAfyCA&sclient=gws-wiz-serp', headers=headers)\n",
    "    response = r.text\n",
    "\n",
    "    soup = BeautifulSoup(response, \"html.parser\")\n",
    "\n",
    "    div = soup.find(\"div\",{'id':'search'})\n",
    "    all_a = div.find_all(\"a\", attrs={\"data-ved\": True})\n",
    "    for a in all_a:\n",
    "        link = a['href']\n",
    "        if link.startswith('https'):\n",
    "            print(link)\n",
    "    saltos += 10\n"
   ]
  },
  {
   "cell_type": "code",
   "execution_count": null,
   "metadata": {},
   "outputs": [],
   "source": []
  }
 ],
 "metadata": {
  "kernelspec": {
   "display_name": "env",
   "language": "python",
   "name": "python3"
  },
  "language_info": {
   "codemirror_mode": {
    "name": "ipython",
    "version": 3
   },
   "file_extension": ".py",
   "mimetype": "text/x-python",
   "name": "python",
   "nbconvert_exporter": "python",
   "pygments_lexer": "ipython3",
   "version": "3.12.1"
  }
 },
 "nbformat": 4,
 "nbformat_minor": 2
}
